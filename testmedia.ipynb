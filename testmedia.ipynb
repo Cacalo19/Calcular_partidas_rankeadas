{
  "nbformat": 4,
  "nbformat_minor": 0,
  "metadata": {
    "colab": {
      "provenance": [],
      "toc_visible": true,
      "authorship_tag": "ABX9TyM4Rltr3Qd1A61DhO9XDDLG",
      "include_colab_link": true
    },
    "kernelspec": {
      "name": "python3",
      "display_name": "Python 3"
    },
    "language_info": {
      "name": "python"
    }
  },
  "cells": [
    {
      "cell_type": "markdown",
      "metadata": {
        "id": "view-in-github",
        "colab_type": "text"
      },
      "source": [
        "<a href=\"https://colab.research.google.com/github/Cacalo19/Calcular_partidas_rankeadas/blob/main/testmedia.ipynb\" target=\"_parent\"><img src=\"https://colab.research.google.com/assets/colab-badge.svg\" alt=\"Open In Colab\"/></a>"
      ]
    },
    {
      "cell_type": "code",
      "execution_count": 1,
      "metadata": {
        "colab": {
          "base_uri": "https://localhost:8080/",
          "height": 0
        },
        "id": "nhXpF5h3Y7KK",
        "outputId": "5a2b3032-b87a-4d17-b8a6-349742d59eaa"
      },
      "outputs": [
        {
          "output_type": "stream",
          "name": "stdout",
          "text": [
            "Digite a primeira nota: 6\n",
            "Digite a segunda nota: 8\n",
            "Aprovado\n"
          ]
        }
      ],
      "source": [
        "#obter as duas notas de provas\n",
        "nota1 = float(input(\"Digite a primeira nota: \"))\n",
        "nota2 = float(input(\"Digite a segunda nota: \"))\n",
        "\n",
        "#Calcular a média aritmética\n",
        "media = (nota1 + nota2)\n",
        "\n",
        "#Se a média for igual ou superior a 7, o aluno foi aprovado\n",
        "if media >= 7:\n",
        "  print(\"Aprovado\")\n",
        "\n",
        "#Se não , ele foi reprovado\n",
        "else:\n",
        "  print(\"Reprovado\")"
      ]
    }
  ]
}